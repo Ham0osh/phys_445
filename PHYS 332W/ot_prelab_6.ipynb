{
 "cells": [
  {
   "cell_type": "markdown",
   "metadata": {},
   "source": [
    "# Prelab 6 - Monte Carlo"
   ]
  },
  {
   "cell_type": "markdown",
   "metadata": {},
   "source": [
    "## 1. Generate some data\n",
    "\n",
    "Use equation 2 and the description in the paragraph under it. Evaluate Eq. 2 recursively to seimulate the time series in x and y for 100,000 points. Use:\n",
    "\n",
    "$\\Delta t = 0.001$\\\n",
    "$D = \\tau_0 = 1$\\\n",
    "$D = k_BT/\\gamma$"
   ]
  },
  {
   "cell_type": "code",
   "execution_count": null,
   "metadata": {},
   "outputs": [],
   "source": []
  },
  {
   "cell_type": "markdown",
   "metadata": {},
   "source": [
    "## 2. Analyse the Monte Carlo Data\n",
    "(a) Compute variance and compare to the data given to the simulation.\\\n",
    "(b) Take the autocorrelation of the simulated data. How long does it take to decay to zero\\\n",
    "(c) Take a histogram of the data's position with error bars. Normalize the histogram to have unit area.\\\n",
    "(d) Fit a gaussian curve to the normalized distribution. Explain why it looks good and calculate the $\\Chi^2$, explain it is too high. Why would the Gaussian function with more fit parameters be unsuitable?"
   ]
  },
  {
   "cell_type": "markdown",
   "metadata": {},
   "source": []
  }
 ],
 "metadata": {
  "kernelspec": {
   "display_name": "Python 3",
   "language": "python",
   "name": "python3"
  },
  "language_info": {
   "name": "python",
   "version": "3.12.2"
  }
 },
 "nbformat": 4,
 "nbformat_minor": 2
}
