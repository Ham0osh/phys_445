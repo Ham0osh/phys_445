{
 "cells": [
  {
   "cell_type": "code",
   "execution_count": 14,
   "metadata": {},
   "outputs": [],
   "source": [
    "import numpy as np\n",
    "import matplotlib.pyplot as plt\n",
    "import hamhelper.plotting as hp\n",
    "import math"
   ]
  },
  {
   "cell_type": "markdown",
   "metadata": {},
   "source": [
    "## Question 2"
   ]
  },
  {
   "cell_type": "code",
   "execution_count": 15,
   "metadata": {},
   "outputs": [],
   "source": [
    "# Helper functions\n",
    "def einSol_microstates(E, N):\n",
    "    \"\"\"Return the number of microstates of an Einstein solid of N particles at energy E. For low N.\n",
    "\n",
    "    Args:\n",
    "        E (int): Energy\n",
    "        N (int): Particle number\n",
    "    \"\"\"\n",
    "    return math.factorial(E + N - 1) / (math.factorial(E) * math.factorial(N - 1))\n",
    "\n"
   ]
  },
  {
   "cell_type": "code",
   "execution_count": 17,
   "metadata": {},
   "outputs": [
    {
     "name": "stdout",
     "output_type": "stream",
     "text": [
      "Initial States\n",
      "Microstates in A = 286.0.\n",
      "Microstates in  = 10.0.\n",
      "This matches the given values in the questions!\n"
     ]
    }
   ],
   "source": [
    "# Initial conditions\n",
    "nA = 4\n",
    "energy_A = 10\n",
    "nB = 4\n",
    "energy_B = 2\n",
    "\n",
    "omega_A = einSol_microstates(energy_A, nA)\n",
    "omega_B = einSol_microstates(energy_B, nB)\n",
    "\n",
    "print('Initial States')\n",
    "print(f'Microstates in A = {omega_A}.')\n",
    "print(f'Microstates in  = {omega_B}.')\n",
    "print(\"This matches the given values in the questions!\")\n"
   ]
  },
  {
   "cell_type": "markdown",
   "metadata": {},
   "source": [
    "### (A)\n",
    "The probability that system A has energy $E_A$ is given by the number of microstates for this configuration after mixing. The total number of states is\n",
    "$$\n",
    "\\Omega_A \\times \\Omega_B = 286 \\times 10 = 2860.\n",
    "$$"
   ]
  },
  {
   "cell_type": "code",
   "execution_count": 49,
   "metadata": {},
   "outputs": [
    {
     "name": "stdout",
     "output_type": "stream",
     "text": [
      "E_A = 0 \tE_B = 12 \tP_A = 9.030e-03.\n",
      "E_A = 1 \tE_B = 11 \tP_A = 2.890e-02.\n",
      "E_A = 2 \tE_B = 10 \tP_A = 5.676e-02.\n",
      "E_A = 3 \tE_B = 9 \tP_A = 8.732e-02.\n",
      "E_A = 4 \tE_B = 8 \tP_A = 1.146e-01.\n",
      "E_A = 5 \tE_B = 7 \tP_A = 1.334e-01.\n",
      "E_A = 6 \tE_B = 6 \tP_A = 1.400e-01.\n",
      "E_A = 7 \tE_B = 5 \tP_A = 1.334e-01.\n",
      "E_A = 8 \tE_B = 4 \tP_A = 1.146e-01.\n",
      "E_A = 9 \tE_B = 3 \tP_A = 8.732e-02.\n",
      "E_A = 10 \tE_B = 2 \tP_A = 5.676e-02.\n",
      "E_A = 11 \tE_B = 1 \tP_A = 2.890e-02.\n",
      "E_A = 12 \tE_B = 0 \tP_A = 9.030e-03.\n"
     ]
    },
    {
     "data": {
      "image/png": "[encoded data removed]",
      "text/plain": [
       "<Figure size 330x220 with 1 Axes>"
      ]
     },
     "metadata": {},
     "output_type": "display_data"
    }
   ],
   "source": [
    "max_E = energy_A + energy_B\n",
    "\n",
    "def P_A(Ea, max_E=max_E):\n",
    "    mstatesA = einSol_microstates(Ea, nA)\n",
    "    mstatesB = einSol_microstates(max_E - Ea, nB)\n",
    "    prob = mstatesA*mstatesB/2860\n",
    "    return prob/17.618181818181814\n",
    "\n",
    "arr_E_A = []\n",
    "arr_P_A = []\n",
    "for E in range(max_E + 1):\n",
    "    print(f\"E_A = {E} \\tE_B = {max_E - E} \\tP_A = {P_A(E):.3e}.\")\n",
    "    arr_E_A.append(E)\n",
    "    arr_P_A.append(P_A(E))\n",
    "\n",
    "# Start plot\n",
    "fig, ax = plt.subplots(1, 1, figsize = [3.3,2.2])\n",
    "\n",
    "# Plot probabilities\n",
    "ax.plot(arr_E_A, arr_P_A, 'r.')\n",
    "\n",
    "# Plot initial cond\n",
    "ax.axvline(energy_A, color='grey', linestyle='dashed', label='Initial State', zorder=1)\n",
    "\n",
    "ax.set(xlabel=r\"$E_A$\", ylabel=r'$P(E_A)$', xticks=[0, 2, 4, 6, 8, 10, 12])\n",
    "hp.despine()\n",
    "ax.legend(framealpha=0, bbox_to_anchor=(1.04, 1), borderaxespad=0)\n",
    "plt.show()"
   ]
  },
  {
   "cell_type": "markdown",
   "metadata": {},
   "source": [
    "## (B)\n",
    "For probabilities that energy is transferred from one subsystem to another we can use\n",
    "$$\n",
    "P(\\text{Energy stays same}) + P(\\text{A Gains Energy}) + P(\\text{A Loses Energy}) = 1.\n",
    "$$\n",
    "Or in other words, for energy being transfered from A to B:\n",
    "$$\n",
    "\\begin{align}\n",
    "P(\\text{A Loses Energy}) &= 1 - P(\\text{Energy stays same}) - P(\\text{A Gains Energy})\\\\\n",
    "P(\\text{A Loses Energy}) &= 1 - P(E_{A}=10) - (P(E_{A} = 11) - P(E_{A} = 12))\n",
    "\\end{align}\n",
    "$$"
   ]
  },
  {
   "cell_type": "code",
   "execution_count": 56,
   "metadata": {},
   "outputs": [
    {
     "name": "stdout",
     "output_type": "stream",
     "text": [
      "P(A loses energy) = 0.9053\n",
      "P(A gains energy) = 0.0379\n"
     ]
    }
   ],
   "source": [
    "# For A losing energy\n",
    "P_a_loses_energy = 1 - P_A(10) - P_A(11) - P_A(12)\n",
    "print(f'P(A loses energy) = {P_a_loses_energy:.4f}')\n",
    "\n",
    "# Similarly we can find the converse probability A gains energy from subsystem B as\n",
    "P_a_gains_energy = P_A(11) + P_A(12)\n",
    "print(f'P(A gains energy) = {P_a_gains_energy:.4f}')"
   ]
  },
  {
   "cell_type": "markdown",
   "metadata": {},
   "source": [
    "There fore we conclude that it is **much** more probable that energy is transfered from subsystem A to subsystem B. We define A as the hotter subsystem and the probability that energy goes from the hotter to colder subsystem is $P=0.9053$. For a smaller subsystem (Table 4.3 in the textbook) with less energy ($E_{tot}=6$) we note that there are fewer microstates.\n",
    "\n",
    "Taking $E_A = E_{A0}/2 = 5$ we find that\n",
    "$$\n",
    "\\begin{align}\n",
    "P(\\text{A Loses Energy}) &= 1 - \\frac{12}{84} - \\frac{7}{84} \\approx 0.77\\\\\n",
    "\\end{align}\n",
    "$$\n",
    "which is smaller than the larger system. This is because the relative number of \"colder\" microstates to \"hotter\" microstates for subsystem A is much lower with fewer total microstates in the whole system. There are \"less ways for it to cool\" and so the probability has decreased.\n",
    "\n",
    "**We can say that the larger system is hotter initially**."
   ]
  },
  {
   "cell_type": "markdown",
   "metadata": {},
   "source": [
    "## (C)\n",
    "What is the number of accessible microstates for the composite system after the constraint has been relaxed? And the change in entropy (letting k=1)?"
   ]
  },
  {
   "cell_type": "code",
   "execution_count": 59,
   "metadata": {},
   "outputs": [
    {
     "name": "stdout",
     "output_type": "stream",
     "text": [
      "E_A = 0 \tE_B = 12 \tCombined microstates = 4.550e+02 \t.\n",
      "E_A = 1 \tE_B = 11 \tCombined microstates = 1.456e+03 \t.\n",
      "E_A = 2 \tE_B = 10 \tCombined microstates = 2.860e+03 \t.\n",
      "E_A = 3 \tE_B = 9 \tCombined microstates = 4.400e+03 \t.\n",
      "E_A = 4 \tE_B = 8 \tCombined microstates = 5.775e+03 \t.\n",
      "E_A = 5 \tE_B = 7 \tCombined microstates = 6.720e+03 \t.\n",
      "E_A = 6 \tE_B = 6 \tCombined microstates = 7.056e+03 \t.\n",
      "E_A = 7 \tE_B = 5 \tCombined microstates = 6.720e+03 \t.\n",
      "E_A = 8 \tE_B = 4 \tCombined microstates = 5.775e+03 \t.\n",
      "E_A = 9 \tE_B = 3 \tCombined microstates = 4.400e+03 \t.\n",
      "E_A = 10 \tE_B = 2 \tCombined microstates = 2.860e+03 \t.\n",
      "E_A = 11 \tE_B = 1 \tCombined microstates = 1.456e+03 \t.\n",
      "E_A = 12 \tE_B = 0 \tCombined microstates = 4.550e+02 \t.\n",
      "\n",
      "Total number of microstates = 50388\n",
      "\n",
      "We find the entropy change as\n",
      "Before S = 7.96e+00\n",
      "After  S = 1.08e+01\n",
      "Difference = 2.87e+00\n"
     ]
    }
   ],
   "source": [
    "# Copied from (a)\n",
    "microstates = []\n",
    "for E in range(max_E + 1):\n",
    "    EA = E\n",
    "    EB = max_E - E\n",
    "    # Microstates for each\n",
    "    omega_A = einSol_microstates(EA, nA)\n",
    "    omega_B = einSol_microstates(EB, nB)\n",
    "    # Calculate combined microstates\n",
    "    omega_AB = omega_A*omega_B\n",
    "    print(f\"E_A = {EA} \\tE_B = {EB} \\tCombined microstates = {omega_AB:.3e}\")\n",
    "    microstates.append(omega_AB)\n",
    "print(f'\\nTotal number of microstates = {np.sum(microstates):.0f}')\n",
    "\n",
    "# Calculate entropy\n",
    "# Before\n",
    "S0 = 1*np.log(2860)\n",
    "# After\n",
    "S1 = 1*np.log(np.sum(microstates))\n",
    "print('\\nWe find the entropy change as')\n",
    "print(f'Before S = {S0:.2e}')\n",
    "print(f'After  S = {S1:.2e}')\n",
    "print(f'Difference = {S1 - S0:.2e}')"
   ]
  },
  {
   "cell_type": "markdown",
   "metadata": {},
   "source": [
    "Therefore, using the same code from part (a), we find the total microstates of the combined system to be $50388$.\\\n",
    "To calculate the entropy we use\n",
    "$$\n",
    "S = 1\\ln{\\Omega_{tot}}\n",
    "$$\n",
    "to find the difference in entropy to be $\\Delta S = 2.87$, letting $k=1$."
   ]
  },
  {
   "cell_type": "markdown",
   "metadata": {},
   "source": [
    "## (d)\n",
    "Calculate the following quantities and compare the final one with the value in Table 4.3 of the text.\n",
    "\n",
    "i. $\\bar{E}_A$\\\n",
    "ii. $\\tilde{E}_A$\\\n",
    "iii. $\\sigma_A$\\\n",
    "iv. $\\sigma_B$\\\n",
    "v. $\\sigma_A/\\bar{E}_A$\n",
    "\n",
    "For the standard deviations I employ $\\sigma = \\sqrt{\\langle E^2_A\\rangle - \\langle E_A\\rangle^2}$"
   ]
  },
  {
   "cell_type": "code",
   "execution_count": 95,
   "metadata": {},
   "outputs": [
    {
     "name": "stdout",
     "output_type": "stream",
     "text": [
      "E_A = 0 \tE_B = 12 \tCombined microstates = 4.550e+02\tP(E_A) = 9.03e-03\n",
      "E_A = 1 \tE_B = 11 \tCombined microstates = 1.456e+03\tP(E_A) = 2.89e-02\n",
      "E_A = 2 \tE_B = 10 \tCombined microstates = 2.860e+03\tP(E_A) = 5.68e-02\n",
      "E_A = 3 \tE_B = 9 \tCombined microstates = 4.400e+03\tP(E_A) = 8.73e-02\n",
      "E_A = 4 \tE_B = 8 \tCombined microstates = 5.775e+03\tP(E_A) = 1.15e-01\n",
      "E_A = 5 \tE_B = 7 \tCombined microstates = 6.720e+03\tP(E_A) = 1.33e-01\n",
      "E_A = 6 \tE_B = 6 \tCombined microstates = 7.056e+03\tP(E_A) = 1.40e-01\n",
      "E_A = 7 \tE_B = 5 \tCombined microstates = 6.720e+03\tP(E_A) = 1.33e-01\n",
      "E_A = 8 \tE_B = 4 \tCombined microstates = 5.775e+03\tP(E_A) = 1.15e-01\n",
      "E_A = 9 \tE_B = 3 \tCombined microstates = 4.400e+03\tP(E_A) = 8.73e-02\n",
      "E_A = 10 \tE_B = 2 \tCombined microstates = 2.860e+03\tP(E_A) = 5.68e-02\n",
      "E_A = 11 \tE_B = 1 \tCombined microstates = 1.456e+03\tP(E_A) = 2.89e-02\n",
      "E_A = 12 \tE_B = 0 \tCombined microstates = 4.550e+02\tP(E_A) = 9.03e-03\n",
      "\n",
      "Mean E_A       = 6.00\n",
      "Most Prob. E_A = 6.00\n",
      "\n",
      "Mean squared energy = 42.67\n",
      "Mean energy squared = 36.00\n",
      "stdev. A       = 2.58\n",
      "stdev. B       = 2.58\n"
     ]
    },
    {
     "data": {
      "image/png": "[encoded data removed]",
      "text/plain": [
       "<Figure size 330x220 with 1 Axes>"
      ]
     },
     "metadata": {},
     "output_type": "display_data"
    }
   ],
   "source": [
    "# Copied from (c)\n",
    "microstates = []\n",
    "energy_in_A = []\n",
    "prob_of_A = []\n",
    "for E in range(max_E + 1):\n",
    "    EA = E\n",
    "    EB = max_E - E\n",
    "    # Microstates for each\n",
    "    omega_A = einSol_microstates(EA, nA)\n",
    "    omega_B = einSol_microstates(EB, nB)\n",
    "    # Calculate combined microstates\n",
    "    omega_AB = omega_A*omega_B\n",
    "    print(f\"E_A = {EA} \\tE_B = {EB} \\tCombined microstates = {omega_AB:.3e}\\tP(E_A) = {omega_AB/50388:.2e}\")\n",
    "    microstates.append(omega_AB)\n",
    "    energy_in_A.append(EA)\n",
    "    prob_of_A.append(omega_AB/50388)\n",
    "\n",
    "microstates = np.array(microstates)\n",
    "energy_in_A = np.array(energy_in_A)\n",
    "prob_of_A = np.array(prob_of_A)\n",
    "\n",
    "# Find values - Print to console\n",
    "# Mean A\n",
    "mean_A = np.dot(microstates, energy_in_A)/np.sum(microstates)\n",
    "# Most probable A is where microstates are max\n",
    "prob_A = energy_in_A[np.argmax(microstates)]\n",
    "# Standard deviation of both distributions\n",
    "# Using the expression noted\n",
    "mean_squared_energy = np.sum(prob_of_A*energy_in_A**2)\n",
    "std_A = np.sqrt(np.sum(prob_of_A*energy_in_A**2) - np.sum(prob_of_A*energy_in_A)**2)\n",
    "std_B = np.sqrt(np.sum(prob_of_A*(max_E-energy_in_A)**2) - np.sum(prob_of_A*(max_E-energy_in_A))**2)\n",
    "print(f'\\nMean E_A       = {mean_A:.2f}')\n",
    "print(f'Most Prob. E_A = {prob_A:.2f}')\n",
    "\n",
    "\n",
    "print(f\"\\nMean squared energy = {np.sum(prob_of_A*energy_in_A**2):.2f}\")\n",
    "print(f\"Mean energy squared = {np.sum(prob_of_A*energy_in_A)**2:.2f}\")\n",
    "print(f'stdev. A       = {std_A:.2f}')\n",
    "print(f'stdev. B       = {std_B:.2f}')\n",
    "\n",
    "# Start plot\n",
    "fig, ax = plt.subplots(1, 1, figsize = [3.3,2.2])\n",
    "# Plot microstates\n",
    "ax.plot(energy_in_A, prob_of_A, 'r.')\n",
    "ax.set(xlabel=r\"$E_A$\", ylabel=r'$P(E_A)$', xticks=[0, 2, 4, 6, 8, 10, 12])\n",
    "hp.despine()\n",
    "# ax.legend(framealpha=0, bbox_to_anchor=(1.04, 1), borderaxespad=0)\n",
    "plt.show()"
   ]
  },
  {
   "cell_type": "markdown",
   "metadata": {},
   "source": [
    "We found that\\\n",
    "$\\bar{E}_A = \\tilde{E}_A = 6,\\text{ and}$\\\n",
    "$\\sigma_A = \\sigma_B \\approx 2.58.$\n",
    "\n",
    "From here we find the relative fluctioations as\n",
    "$$\n",
    "\\frac{\\sigma_A}{\\bar{E}_A} \\approx \\frac{2.58}{6} = 0.43\n",
    "$$\n",
    "\n",
    "This is smaller than the value calculated in Table 4.3."
   ]
  },
  {
   "cell_type": "markdown",
   "metadata": {},
   "source": [
    "## (e)\n",
    "Entropy of the composite system in its most probably macrostate is given by $\\ln\\Omega_A(\\tilde{E}_A)\\Omega_B(E_{tot}-E_A)$. Compare this value to the total entropy caluclated in part (c) to be 10.8."
   ]
  },
  {
   "cell_type": "code",
   "execution_count": 97,
   "metadata": {},
   "outputs": [
    {
     "name": "stdout",
     "output_type": "stream",
     "text": [
      "S = 8.86e+00\n"
     ]
    }
   ],
   "source": [
    "# Calculate the entropy in most probability macrostate\n",
    "s_most_prob = np.log( einSol_microstates(6, nA)*einSol_microstates(6, nB) )\n",
    "print(f\"S = {s_most_prob:.2e}\")\n"
   ]
  },
  {
   "cell_type": "markdown",
   "metadata": {},
   "source": [
    "The entropy has reduced by approximately $\\Delta S = 1.94$."
   ]
  },
  {
   "cell_type": "markdown",
   "metadata": {},
   "source": [
    "## (f)\n",
    "We can now compare successively larger systems, increasing N"
   ]
  },
  {
   "cell_type": "code",
   "execution_count": 107,
   "metadata": {},
   "outputs": [
    {
     "data": {
      "image/png": "[encoded data removed]",
      "text/plain": [
       "<Figure size 330x220 with 1 Axes>"
      ]
     },
     "metadata": {},
     "output_type": "display_data"
    }
   ],
   "source": [
    "N_arr = [4, 16, 32, 64]  # Na = Nb = N\n",
    "# Make axis to plot qualitative behaviour\n",
    "fig, ax = plt.subplots(1, 1, figsize = [3.3,2.2])\n",
    "\n",
    "# Calculate probabilities for each system\n",
    "for N in N_arr:\n",
    "    microstates = []\n",
    "    energy_in_A = []\n",
    "    prob_of_A = []\n",
    "    max_energy = 3*N\n",
    "    for E in range(max_energy + 1):\n",
    "        EA = E\n",
    "        EB = max_energy - E\n",
    "        # Microstates for each\n",
    "        omega_A = einSol_microstates(EA, N)\n",
    "        omega_B = einSol_microstates(EB, N)\n",
    "        # Calculate combined microstates\n",
    "        omega_AB = omega_A*omega_B\n",
    "        microstates.append(omega_AB)\n",
    "        energy_in_A.append(EA)\n",
    "        prob_of_A.append(omega_AB)\n",
    "    energy_in_A = np.array(energy_in_A)\n",
    "    # Normalize probabilities\n",
    "    prob_of_A = np.array(prob_of_A)\n",
    "    prob_of_A /= np.sum(prob_of_A)\n",
    "    \n",
    "    ax.plot(energy_in_A, prob_of_A, label = f'N = {N}')\n",
    "\n",
    "hp.despine()\n",
    "ax.set(xlabel=r'$E_A$', ylabel=r'$P(E_A)$')\n",
    "plt.legend(framealpha=0)\n",
    "plt.show()"
   ]
  },
  {
   "cell_type": "markdown",
   "metadata": {},
   "source": [
    "Assuming we keep the energy per particle the same at $E/N=3$, we see that increasing the size of the system causes the distribution to spread out and become more gaussian in appearance (and more continuous). As the size increases, the distributions widen indicating larger standard deviations, however the relative width to mean energy falls. Larger systems occupy more energy states and so I would also guess this shows that the entropy increases."
   ]
  },
  {
   "cell_type": "markdown",
   "metadata": {},
   "source": []
  },
  {
   "cell_type": "markdown",
   "metadata": {},
   "source": [
    "# "
   ]
  }
 ],
 "metadata": {
  "kernelspec": {
   "display_name": "Python 3",
   "language": "python",
   "name": "python3"
  },
  "language_info": {
   "codemirror_mode": {
    "name": "ipython",
    "version": 3
   },
   "file_extension": ".py",
   "mimetype": "text/x-python",
   "name": "python",
   "nbconvert_exporter": "python",
   "pygments_lexer": "ipython3",
   "version": "3.12.2"
  }
 },
 "nbformat": 4,
 "nbformat_minor": 2
}
