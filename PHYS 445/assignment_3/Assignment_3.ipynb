{
 "cells": [
  {
   "cell_type": "code",
   "execution_count": 1,
   "metadata": {},
   "outputs": [],
   "source": [
    "import numpy as np\n",
    "import matplotlib.pyplot as plt\n",
    "import hamhelper.plotting as hp\n",
    "import math\n",
    "import scipy as sp"
   ]
  },
  {
   "cell_type": "markdown",
   "metadata": {},
   "source": [
    "## Question 1\n",
    "Plot S(T) for these particles"
   ]
  },
  {
   "cell_type": "code",
   "execution_count": 53,
   "metadata": {},
   "outputs": [
    {
     "name": "stdout",
     "output_type": "stream",
     "text": [
      "1.380649e-23\n",
      "[7.06282194e-20 7.06507313e-20 7.06732034e-20 7.06956356e-20\n",
      " 7.07180282e-20 7.07403812e-20 7.07626948e-20 7.07849689e-20\n",
      " 7.08072038e-20 7.08293995e-20]\n",
      "[2.23156076e-20 2.22985404e-20 2.22814971e-20 2.22644777e-20\n",
      " 2.22474820e-20 2.22305101e-20 2.22135620e-20 2.21966374e-20\n",
      " 2.21797365e-20 2.21628592e-20]\n",
      "9.294382697543602e-20\n"
     ]
    },
    {
     "name": "stderr",
     "output_type": "stream",
     "text": [
      "C:\\Users\\hamis\\AppData\\Local\\Temp\\ipykernel_18192\\4262738225.py:6: RuntimeWarning: overflow encountered in exp\n",
      "  t2 = (N*E)/((Teff/k_b) * (1 + np.exp(B*E)))\n",
      "C:\\Users\\hamis\\AppData\\Local\\Temp\\ipykernel_18192\\4262738225.py:9: RuntimeWarning: overflow encountered in exp\n",
      "  return N*k_b*np.log(1 + np.exp(-B*E)) + (N*E)/((Teff/k_b) * (1 + np.exp(B*E)))\n"
     ]
    },
    {
     "data": {
      "image/png": "[encoded data removed]",
      "text/plain": [
       "<Figure size 330x220 with 1 Axes>"
      ]
     },
     "metadata": {},
     "output_type": "display_data"
    }
   ],
   "source": [
    "kB = sp.constants.k\n",
    "print(kB)\n",
    "def S_1(Teff, E=10, N=1e4, k_b=kB):\n",
    "    B = 1/(Teff)\n",
    "    t1 = N*k_b*np.log(1 + np.exp(-B*E))\n",
    "    t2 = (N*E)/((Teff/k_b) * (1 + np.exp(B*E)))\n",
    "    print(t1[-10:])\n",
    "    print(t2[-10:])\n",
    "    return N*k_b*np.log(1 + np.exp(-B*E)) + (N*E)/((Teff/k_b) * (1 + np.exp(B*E)))\n",
    "\n",
    "x_model = np.linspace(0.01, 25, 1000)\n",
    "y_model = S_1(x_model)\n",
    "print(y_model[-10])\n",
    "\n",
    "fig, ax = plt.subplots(1, 1, figsize=np.array([3.3, 2.2]))\n",
    "\n",
    "ax.plot(x_model, y_model, 'r-')\n",
    "\n",
    "ax.set(xlabel=r'$k_BT$', ylabel='Entropy')\n",
    "hp.despine()\n",
    "plt.savefig('plots/q1_s_vs_kbT.png', dpi=300)\n",
    "plt.show()"
   ]
  },
  {
   "cell_type": "code",
   "execution_count": null,
   "metadata": {},
   "outputs": [],
   "source": []
  }
 ],
 "metadata": {
  "kernelspec": {
   "display_name": "Python 3",
   "language": "python",
   "name": "python3"
  },
  "language_info": {
   "codemirror_mode": {
    "name": "ipython",
    "version": 3
   },
   "file_extension": ".py",
   "mimetype": "text/x-python",
   "name": "python",
   "nbconvert_exporter": "python",
   "pygments_lexer": "ipython3",
   "version": "3.12.2"
  }
 },
 "nbformat": 4,
 "nbformat_minor": 2
}
