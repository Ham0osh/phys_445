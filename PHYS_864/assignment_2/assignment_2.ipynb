{
 "cells": [
  {
   "cell_type": "code",
   "execution_count": 2,
   "metadata": {},
   "outputs": [],
   "source": [
    "import numpy as np\n",
    "import matplotlib.pyplot as plt\n",
    "import hamhelper.plotting as hp\n",
    "# import hamhelper.colours as hc"
   ]
  },
  {
   "cell_type": "markdown",
   "metadata": {},
   "source": [
    "# Q1\n",
    "Solving for the allowed HCP peaks!\n",
    "We start by defining the place spacing and criteria for allowed interference peaks"
   ]
  },
  {
   "cell_type": "code",
   "execution_count": 3,
   "metadata": {},
   "outputs": [],
   "source": [
    "def interplanar_spacing(h, k, l, a=1):\n",
    "    denom = (4/3)*(h**2 + h*k + k**2) + (l/1.63)**2\n",
    "    return a/np.sqrt(denom)\n",
    "\n",
    "def check_allowed_hcp(h, k, l):\n",
    "    if h + k + l < 1:\n",
    "        return False\n",
    "    else:\n",
    "        first_criteria = l%2 != 0\n",
    "        second_criteria_a = (h + 2*k)%3 == 0\n",
    "        second_criteria_b = (2*h + k)%3 == 0\n",
    "        return not np.logical_and(first_criteria,\n",
    "                             np.logical_or(second_criteria_a, \n",
    "                                           second_criteria_b))"
   ]
  },
  {
   "cell_type": "code",
   "execution_count": 4,
   "metadata": {},
   "outputs": [
    {
     "name": "stdout",
     "output_type": "stream",
     "text": [
      "\n",
      "Peak 712.0 has 1/d = 1.15 ->\n",
      "[[[0. 1. 0.]]\n",
      "\n",
      " [[1. 0. 0.]]]\n",
      "\n",
      "Peak 711.0 has 1/d = 1.23 ->\n",
      "[[[0. 0. 2.]]]\n",
      "\n",
      "Peak 710.0 has 1/d = 1.31 ->\n",
      "[[[0. 1. 1.]]\n",
      "\n",
      " [[1. 0. 1.]]]\n",
      "\n",
      "Peak 709.0 has 1/d = 1.68 ->\n",
      "[[[0. 1. 2.]]\n",
      "\n",
      " [[1. 0. 2.]]]\n",
      "\n",
      "Peak 708.0 has 1/d = 2.00 ->\n",
      "[[[1. 1. 0.]]]\n",
      "\n",
      "Peak 707.0 has 1/d = 2.17 ->\n",
      "[[[0. 1. 3.]]\n",
      "\n",
      " [[1. 0. 3.]]]\n"
     ]
    },
    {
     "data": {
      "image/png": "[encoded data removed]",
      "text/plain": [
       "<Figure size 660x250 with 1 Axes>"
      ]
     },
     "metadata": {},
     "output_type": "display_data"
    }
   ],
   "source": [
    "h_arr = np.arange(0, 12)\n",
    "k_arr = np.arange(0, 12)\n",
    "l_arr = np.arange(0, 12)\n",
    "\n",
    "# Get all defined hkl's\n",
    "hkl = np.array(np.meshgrid(h_arr, k_arr, l_arr)).T.reshape(-1, 3)\n",
    "\n",
    "results_array = []\n",
    "verbose = False\n",
    "for h, k, l in hkl:\n",
    "    if check_allowed_hcp(h, k, l):\n",
    "        distance = interplanar_spacing(h, k, l)\n",
    "        results_array.append([distance, h, k, l])\n",
    "        if verbose:\n",
    "            print(f'({h},{k},{l})\\td = {distance:.3e}')\n",
    "    else:\n",
    "        if verbose:\n",
    "            print(f'({h},{k},{l}) Not allowed!')\n",
    "results_array = np.array(results_array)\n",
    "sorted_results = results_array\n",
    "\n",
    "# Check for multiplicity\n",
    "unique_peaks = []  # multiplicity, d, hkl\n",
    "miller_arrays = []\n",
    "unique_d, multiplicity = np.unique(sorted_results[:, 0], return_counts=True)\n",
    "for i, (d, m) in enumerate(zip(unique_d, multiplicity)):\n",
    "    # get all hkls\n",
    "    idx = np.argwhere(sorted_results[:, 0] == d)\n",
    "    miller_idx = sorted_results[idx, 1:]\n",
    "    unique_peaks.append([1/d, m, i])\n",
    "    miller_arrays.append(miller_idx)\n",
    "    if verbose:\n",
    "        print(f'Unique 1/d = {1/d:.2e} w/ multiplicity of {m}')\n",
    "unique_peaks = np.array(unique_peaks)\n",
    "# sort in increasing 1/d\n",
    "sort_args = np.argsort(unique_peaks[:, 0])\n",
    "unique_peaks = unique_peaks[sort_args]\n",
    "\n",
    "# Plotting\n",
    "x = unique_peaks[:6,0]  # 1/d\n",
    "y = unique_peaks[:6,1]  # mult\n",
    "\n",
    "# # Print each peak\n",
    "for invd, mult, index in unique_peaks[:6,:]:\n",
    "    # print(index)\n",
    "    print(f'\\nPeak {index} has 1/d = {invd:.2f} ->\\n{miller_arrays[int(index)]}')\n",
    "\n",
    "x_bk = np.linspace(1, 2.4, 200)\n",
    "y_bk = np.ones_like(x_bk)*0\n",
    "\n",
    "x = np.concatenate([x, x_bk])\n",
    "y = np.concatenate([y, y_bk])\n",
    "\n",
    "sortindex = np.argsort(x)\n",
    "x = x[sortindex]\n",
    "y = y[sortindex]\n",
    "\n",
    "fig, ax = plt.subplots(1, 1, figsize=(6.6,2.5))\n",
    "\n",
    "ax.plot(x, y, '-')\n",
    "ax.set(xlabel=r'$1/d_{hkl}$', ylabel = r'$I\\propto$multiplicity',\n",
    "       ylim=(0, 2.1), title='HCP Allowed Diffraction Planes');\n",
    "\n",
    "hp.despine()\n",
    "plt.savefig('plots/1q_peaks.png', dpi=300, bbox_inches='tight')\n",
    "plt.show()"
   ]
  },
  {
   "cell_type": "code",
   "execution_count": null,
   "metadata": {},
   "outputs": [],
   "source": []
  },
  {
   "cell_type": "code",
   "execution_count": null,
   "metadata": {},
   "outputs": [],
   "source": []
  }
 ],
 "metadata": {
  "kernelspec": {
   "display_name": "Python 3",
   "language": "python",
   "name": "python3"
  },
  "language_info": {
   "codemirror_mode": {
    "name": "ipython",
    "version": 3
   },
   "file_extension": ".py",
   "mimetype": "text/x-python",
   "name": "python",
   "nbconvert_exporter": "python",
   "pygments_lexer": "ipython3",
   "version": "3.12.2"
  }
 },
 "nbformat": 4,
 "nbformat_minor": 2
}
